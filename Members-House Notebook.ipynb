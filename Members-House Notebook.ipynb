{
 "cells": [
  {
   "cell_type": "markdown",
   "metadata": {},
   "source": [
    "# Congress Members House Notebook"
   ]
  },
  {
   "cell_type": "markdown",
   "metadata": {},
   "source": [
    "William Jarvis 04/29/2019 "
   ]
  },
  {
   "cell_type": "markdown",
   "metadata": {},
   "source": [
    "  "
   ]
  },
  {
   "cell_type": "markdown",
   "metadata": {},
   "source": [
    " "
   ]
  },
  {
   "cell_type": "markdown",
   "metadata": {},
   "source": [
    "## Imports and Credentials"
   ]
  },
  {
   "cell_type": "markdown",
   "metadata": {},
   "source": [
    "### Imports:"
   ]
  },
  {
   "cell_type": "code",
   "execution_count": 2,
   "metadata": {},
   "outputs": [],
   "source": [
    "from congress import Congress \n",
    "import pandas as pd "
   ]
  },
  {
   "cell_type": "markdown",
   "metadata": {},
   "source": [
    " "
   ]
  },
  {
   "cell_type": "markdown",
   "metadata": {},
   "source": [
    "### Verification Credentials:"
   ]
  },
  {
   "cell_type": "code",
   "execution_count": 3,
   "metadata": {},
   "outputs": [],
   "source": [
    "congress = Congress('hJVtQTEGbweeIF5yKHzNlPeJpWsKfm88qoRdmcml')"
   ]
  },
  {
   "cell_type": "markdown",
   "metadata": {},
   "source": [
    " "
   ]
  },
  {
   "cell_type": "markdown",
   "metadata": {},
   "source": [
    " "
   ]
  },
  {
   "cell_type": "markdown",
   "metadata": {},
   "source": [
    "## Data Collection and Maintenance "
   ]
  },
  {
   "cell_type": "markdown",
   "metadata": {},
   "source": [
    " "
   ]
  },
  {
   "cell_type": "markdown",
   "metadata": {},
   "source": [
    "### Historical Data Collection "
   ]
  },
  {
   "cell_type": "code",
   "execution_count": 5,
   "metadata": {},
   "outputs": [],
   "source": [
    "current_congress_meeting = 116 "
   ]
  },
  {
   "cell_type": "code",
   "execution_count": 6,
   "metadata": {},
   "outputs": [],
   "source": [
    "historical_house_meetings = range(102, current_congress_meeting)"
   ]
  },
  {
   "cell_type": "code",
   "execution_count": 7,
   "metadata": {},
   "outputs": [],
   "source": [
    "def member_appender(list_of_members):\n",
    "    list_of_member_dicts = []\n",
    "    for i in range(0,len(list_of_members)):\n",
    "        list_of_member_dicts.append(pd.DataFrame.from_records(list_of_members[i], index=[i]))\n",
    "    return pd.concat(list_of_member_dicts, sort=True)"
   ]
  },
  {
   "cell_type": "code",
   "execution_count": 8,
   "metadata": {},
   "outputs": [],
   "source": [
    "pd.options.display.max_rows = 9999 "
   ]
  },
  {
   "cell_type": "code",
   "execution_count": 9,
   "metadata": {},
   "outputs": [],
   "source": [
    "pd.options.display.max_columns= 100 "
   ]
  },
  {
   "cell_type": "code",
   "execution_count": 11,
   "metadata": {},
   "outputs": [],
   "source": [
    "def historical_house_compiler():\n",
    "    list_big_red_one = []\n",
    "    for i in historical_house_meetings:\n",
    "        list_big_red_one.append(member_appender(congress.members.filter(\n",
    "            'house', i)[0]['members']).join(pd.DataFrame(data={'congress_number': [i]*len(\n",
    "            congress.members.filter('house', i)[0]['members'])})))\n",
    "    return pd.concat(list_big_red_one, sort=True, ignore_index=True) "
   ]
  },
  {
   "cell_type": "code",
   "execution_count": 12,
   "metadata": {},
   "outputs": [],
   "source": [
    "\"\"\"\"\n",
    "Creating Dataframes for both historical and current members of the House\n",
    "\"\"\"\"\n",
    "\n",
    "historical_house_members = historical_house_compiler()\n",
    "current_house_members = member_appender(congress.members.filter('house')[0]['members'])\n",
    "current_house_members.insert(loc=1, column='congress_number', value=116)\n",
    "\n",
    "\n",
    "\n",
    "\"\"\"\"\n",
    "Creating Combined Dataframe of all past and present members of the House\n",
    "\"\"\"\"\n",
    "\n",
    "house_members = historical_house_members.append(current_house_members, sort=True)\n",
    "house_members = house_members.reset_index()\n",
    "house_members = house_members.drop(columns='index', axis=1)\n"
   ]
  },
  {
   "cell_type": "code",
   "execution_count": 32,
   "metadata": {},
   "outputs": [],
   "source": [
    "def all_house_members():\n",
    "    return house_members"
   ]
  },
  {
   "cell_type": "code",
   "execution_count": null,
   "metadata": {},
   "outputs": [],
   "source": []
  }
 ],
 "metadata": {
  "kernelspec": {
   "display_name": "Python 3",
   "language": "python",
   "name": "python3"
  },
  "language_info": {
   "codemirror_mode": {
    "name": "ipython",
    "version": 3
   },
   "file_extension": ".py",
   "mimetype": "text/x-python",
   "name": "python",
   "nbconvert_exporter": "python",
   "pygments_lexer": "ipython3",
   "version": "3.7.1"
  }
 },
 "nbformat": 4,
 "nbformat_minor": 2
}
